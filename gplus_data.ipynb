{
 "cells": [
  {
   "cell_type": "code",
   "execution_count": 6,
   "metadata": {},
   "outputs": [],
   "source": [
    "import numpy as np\n",
    "import pandas as pd\n",
    "import torch_geometric\n",
    "import networkx as nx\n",
    "from torch_geometric.data import Data, Dataset\n",
    "from torch_geometric.datasets.planetoid import Planetoid\n",
    "from torch_geometric.transforms.to_undirected import ToUndirected\n",
    "import torch"
   ]
  },
  {
   "cell_type": "code",
   "execution_count": 102,
   "metadata": {},
   "outputs": [],
   "source": [
    "edge_list = pd.read_csv('/home/jrm28/fairness/subgraph_sketching-original/dataset/gplus/raw/100637660947564674695.edges', sep=' ', header=None)"
   ]
  },
  {
   "cell_type": "code",
   "execution_count": 103,
   "metadata": {},
   "outputs": [
    {
     "data": {
      "text/html": [
       "<div>\n",
       "<style scoped>\n",
       "    .dataframe tbody tr th:only-of-type {\n",
       "        vertical-align: middle;\n",
       "    }\n",
       "\n",
       "    .dataframe tbody tr th {\n",
       "        vertical-align: top;\n",
       "    }\n",
       "\n",
       "    .dataframe thead th {\n",
       "        text-align: right;\n",
       "    }\n",
       "</style>\n",
       "<table border=\"1\" class=\"dataframe\">\n",
       "  <thead>\n",
       "    <tr style=\"text-align: right;\">\n",
       "      <th></th>\n",
       "      <th>0</th>\n",
       "      <th>1</th>\n",
       "    </tr>\n",
       "  </thead>\n",
       "  <tbody>\n",
       "    <tr>\n",
       "      <th>3926</th>\n",
       "      <td>100103314581848288036</td>\n",
       "      <td>116995710336756123292</td>\n",
       "    </tr>\n",
       "    <tr>\n",
       "      <th>2755</th>\n",
       "      <td>100103314581848288036</td>\n",
       "      <td>108981679893410895534</td>\n",
       "    </tr>\n",
       "    <tr>\n",
       "      <th>184</th>\n",
       "      <td>100103314581848288036</td>\n",
       "      <td>111033676716092524756</td>\n",
       "    </tr>\n",
       "    <tr>\n",
       "      <th>3031</th>\n",
       "      <td>100103314581848288036</td>\n",
       "      <td>110527332382139046457</td>\n",
       "    </tr>\n",
       "    <tr>\n",
       "      <th>422</th>\n",
       "      <td>100103314581848288036</td>\n",
       "      <td>102062087222207096193</td>\n",
       "    </tr>\n",
       "    <tr>\n",
       "      <th>...</th>\n",
       "      <td>...</td>\n",
       "      <td>...</td>\n",
       "    </tr>\n",
       "    <tr>\n",
       "      <th>2494</th>\n",
       "      <td>118391161680564572266</td>\n",
       "      <td>111799466965072047882</td>\n",
       "    </tr>\n",
       "    <tr>\n",
       "      <th>2191</th>\n",
       "      <td>118391161680564572266</td>\n",
       "      <td>112943946047332492941</td>\n",
       "    </tr>\n",
       "    <tr>\n",
       "      <th>1199</th>\n",
       "      <td>118391161680564572266</td>\n",
       "      <td>100624241693398887245</td>\n",
       "    </tr>\n",
       "    <tr>\n",
       "      <th>2863</th>\n",
       "      <td>118391161680564572266</td>\n",
       "      <td>101848191156408080085</td>\n",
       "    </tr>\n",
       "    <tr>\n",
       "      <th>862</th>\n",
       "      <td>118391161680564572266</td>\n",
       "      <td>101793532287583914396</td>\n",
       "    </tr>\n",
       "  </tbody>\n",
       "</table>\n",
       "<p>3994 rows × 2 columns</p>\n",
       "</div>"
      ],
      "text/plain": [
       "                          0                      1\n",
       "3926  100103314581848288036  116995710336756123292\n",
       "2755  100103314581848288036  108981679893410895534\n",
       "184   100103314581848288036  111033676716092524756\n",
       "3031  100103314581848288036  110527332382139046457\n",
       "422   100103314581848288036  102062087222207096193\n",
       "...                     ...                    ...\n",
       "2494  118391161680564572266  111799466965072047882\n",
       "2191  118391161680564572266  112943946047332492941\n",
       "1199  118391161680564572266  100624241693398887245\n",
       "2863  118391161680564572266  101848191156408080085\n",
       "862   118391161680564572266  101793532287583914396\n",
       "\n",
       "[3994 rows x 2 columns]"
      ]
     },
     "execution_count": 103,
     "metadata": {},
     "output_type": "execute_result"
    }
   ],
   "source": [
    "edge_list.sort_values(by=[0])"
   ]
  },
  {
   "cell_type": "code",
   "execution_count": 104,
   "metadata": {},
   "outputs": [],
   "source": [
    "unique_values = edge_list.stack().unique()\n",
    "unique_values_sorted = np.sort(unique_values)\n",
    "node_mapper = dict(zip(unique_values_sorted, range(len(unique_values_sorted))))"
   ]
  },
  {
   "cell_type": "code",
   "execution_count": 105,
   "metadata": {},
   "outputs": [],
   "source": [
    "edge_list[0] = edge_list[0].map(node_mapper)"
   ]
  },
  {
   "cell_type": "code",
   "execution_count": 106,
   "metadata": {},
   "outputs": [],
   "source": [
    "edge_list[1] = edge_list[1].map(node_mapper)"
   ]
  },
  {
   "cell_type": "code",
   "execution_count": 107,
   "metadata": {},
   "outputs": [],
   "source": [
    "edge_array = edge_list.sort_values(by=[0, 1]).values"
   ]
  },
  {
   "cell_type": "code",
   "execution_count": 108,
   "metadata": {},
   "outputs": [],
   "source": [
    "features = np.loadtxt('/home/jrm28/fairness/subgraph_sketching-original/dataset/gplus/raw/100637660947564674695.feat')\n",
    "\n",
    "# sort features by node id\n",
    "sorted_idx = features[:, 0].argsort()\n",
    "features = features[sorted_idx, :]"
   ]
  },
  {
   "cell_type": "code",
   "execution_count": 110,
   "metadata": {},
   "outputs": [],
   "source": [
    "transform = ToUndirected()\n",
    "\n",
    "# feature 1 will be the sensitive attribute\n",
    "x = torch.tensor(features[:, 1:], dtype=torch.float32)\n",
    "y = x[:, 1]\n",
    "\n",
    "# Removing columns 1, 2, and 3 (sensitive attributes)\n",
    "x = x[:, 4:]\n",
    "\n",
    "gplus = Data(x=x, y=y, edge_index=torch.tensor(edge_array.T))\n",
    "gplus = transform(gplus)"
   ]
  },
  {
   "cell_type": "code",
   "execution_count": 111,
   "metadata": {},
   "outputs": [],
   "source": [
    "torch.save(gplus, '/home/jrm28/fairness/subgraph_sketching-original/dataset/gplus/processed/gplus_100637660947564674695.pt')"
   ]
  },
  {
   "cell_type": "markdown",
   "metadata": {},
   "source": [
    "## EDA"
   ]
  },
  {
   "cell_type": "code",
   "execution_count": 92,
   "metadata": {},
   "outputs": [
    {
     "data": {
      "text/plain": [
       "tensor([1., 2., 1.,  ..., 0., 1., 1.])"
      ]
     },
     "execution_count": 92,
     "metadata": {},
     "output_type": "execute_result"
    }
   ],
   "source": [
    "torch.vstack((y[gplus.edge_index[0]], y[gplus.edge_index[1]])).sum(axis=0)  "
   ]
  },
  {
   "cell_type": "code",
   "execution_count": 94,
   "metadata": {},
   "outputs": [
    {
     "data": {
      "text/plain": [
       "(tensor(233290), tensor(70242))"
      ]
     },
     "execution_count": 94,
     "metadata": {},
     "output_type": "execute_result"
    }
   ],
   "source": [
    "(torch.vstack((y[gplus.edge_index[0]], y[gplus.edge_index[1]])).sum(axis=0) == 0).sum() + (torch.vstack((y[gplus.edge_index[0]], y[gplus.edge_index[1]])).sum(axis=0) == 2).sum(), (torch.vstack((y[gplus.edge_index[0]], y[gplus.edge_index[1]])).sum(axis=0) == 1).sum(), "
   ]
  }
 ],
 "metadata": {
  "kernelspec": {
   "display_name": "gelato_clone",
   "language": "python",
   "name": "python3"
  },
  "language_info": {
   "codemirror_mode": {
    "name": "ipython",
    "version": 3
   },
   "file_extension": ".py",
   "mimetype": "text/x-python",
   "name": "python",
   "nbconvert_exporter": "python",
   "pygments_lexer": "ipython3",
   "version": "3.11.3"
  }
 },
 "nbformat": 4,
 "nbformat_minor": 2
}
