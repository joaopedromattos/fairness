{
 "cells": [
  {
   "cell_type": "code",
   "execution_count": 1,
   "metadata": {},
   "outputs": [],
   "source": [
    "import numpy as np\n",
    "import pandas as pd\n",
    "import torch_geometric\n",
    "import networkx as nx\n",
    "from torch_geometric.data import Data, Dataset\n",
    "from torch_geometric.datasets.planetoid import Planetoid\n",
    "from torch_geometric.transforms.to_undirected import ToUndirected\n",
    "import torch"
   ]
  },
  {
   "cell_type": "code",
   "execution_count": 2,
   "metadata": {},
   "outputs": [],
   "source": [
    "G = nx.read_edgelist('/home/jrm28/fairness/subgraph_sketching-original/dataset/ego-facebook/raw/facebook/1684.edges', nodetype=int)"
   ]
  },
  {
   "cell_type": "code",
   "execution_count": 3,
   "metadata": {},
   "outputs": [],
   "source": [
    "edge_array = np.array([(u, v) for u, v in G.edges])\n",
    "edge_array.sort()"
   ]
  },
  {
   "cell_type": "code",
   "execution_count": 4,
   "metadata": {},
   "outputs": [
    {
     "data": {
      "text/plain": [
       "array([[2849, 3021],\n",
       "       [2849, 3335],\n",
       "       [2849, 3299],\n",
       "       ...,\n",
       "       [2691, 2792],\n",
       "       [3268, 3407],\n",
       "       [2788, 3271]])"
      ]
     },
     "execution_count": 4,
     "metadata": {},
     "output_type": "execute_result"
    }
   ],
   "source": [
    "edge_array"
   ]
  },
  {
   "cell_type": "code",
   "execution_count": 5,
   "metadata": {},
   "outputs": [
    {
     "data": {
      "text/plain": [
       "array([[204, 376],\n",
       "       [204, 690],\n",
       "       [204, 654],\n",
       "       ...,\n",
       "       [ 46, 147],\n",
       "       [623, 762],\n",
       "       [143, 626]])"
      ]
     },
     "execution_count": 5,
     "metadata": {},
     "output_type": "execute_result"
    }
   ],
   "source": [
    "features = np.loadtxt('/home/jrm28/fairness/subgraph_sketching-original/dataset/ego-facebook/raw/facebook/1684.feat')\n",
    "\n",
    "# sort features by node id\n",
    "sorted_idx = features[:, 0].argsort()\n",
    "features = features[sorted_idx, :]\n",
    "\n",
    "\n",
    "# Map node to index\n",
    "node_mapper = np.arange(features.shape[0])\n",
    "node_mapper = dict(zip(features[:, 0].astype(int), node_mapper))\n",
    "\n",
    "for edge in edge_array:\n",
    "    edge[0] = node_mapper[edge[0]]\n",
    "    edge[1] = node_mapper[edge[1]]\n",
    "    \n",
    "edge_array"
   ]
  },
  {
   "cell_type": "code",
   "execution_count": 6,
   "metadata": {},
   "outputs": [],
   "source": [
    "transform = ToUndirected()\n",
    "\n",
    "# feature 147 will be the sensitive attribute\n",
    "x = torch.tensor(features[:, 1:], dtype=torch.float32)\n",
    "y = x[:, 147]\n",
    "\n",
    "# Removing columns 147 and 148 (sensitive attributes)\n",
    "x = torch.cat((x[:, :147], x[:, 149:]), dim=1)\n",
    "\n",
    "facebook = Data(x=x, y=y, edge_index=torch.tensor(edge_array.T))\n",
    "facebook = transform(facebook)"
   ]
  },
  {
   "cell_type": "code",
   "execution_count": 7,
   "metadata": {},
   "outputs": [
    {
     "data": {
      "text/plain": [
       "Data(x=[792, 317], edge_index=[2, 28048], y=[792])"
      ]
     },
     "execution_count": 7,
     "metadata": {},
     "output_type": "execute_result"
    }
   ],
   "source": [
    "facebook"
   ]
  },
  {
   "cell_type": "code",
   "execution_count": 7,
   "metadata": {},
   "outputs": [],
   "source": [
    "torch.save(facebook, '/Users/joaopedromattos/Documents/fairness/subgraph_sketching-original/dataset/facebook/processed/facebook_1684.pt')"
   ]
  },
  {
   "cell_type": "code",
   "execution_count": 11,
   "metadata": {},
   "outputs": [
    {
     "data": {
      "text/plain": [
       "Data(x=[308, 112], edge_index=[2, 6364], y=[308])"
      ]
     },
     "execution_count": 11,
     "metadata": {},
     "output_type": "execute_result"
    }
   ],
   "source": [
    "torch.load('/home/jrm28/fairness/subgraph_sketching-original/dataset/gplus/processed/gplus_100637660947564674695.pt')"
   ]
  },
  {
   "cell_type": "markdown",
   "metadata": {},
   "source": [
    "## EDA"
   ]
  },
  {
   "cell_type": "code",
   "execution_count": 8,
   "metadata": {},
   "outputs": [
    {
     "data": {
      "text/plain": [
       "tensor([0., 0., 1.,  ..., 0., 1., 0.])"
      ]
     },
     "execution_count": 8,
     "metadata": {},
     "output_type": "execute_result"
    }
   ],
   "source": [
    "torch.vstack((y[facebook.edge_index[0]], y[facebook.edge_index[1]])).sum(axis=0)  "
   ]
  },
  {
   "cell_type": "code",
   "execution_count": 9,
   "metadata": {},
   "outputs": [
    {
     "data": {
      "text/plain": [
       "(tensor(15978), tensor(12070))"
      ]
     },
     "execution_count": 9,
     "metadata": {},
     "output_type": "execute_result"
    }
   ],
   "source": [
    "(torch.vstack((y[facebook.edge_index[0]], y[facebook.edge_index[1]])).sum(axis=0) == 0).sum() + (torch.vstack((y[facebook.edge_index[0]], y[facebook.edge_index[1]])).sum(axis=0) == 2).sum(), (torch.vstack((y[facebook.edge_index[0]], y[facebook.edge_index[1]])).sum(axis=0) == 1).sum()"
   ]
  },
  {
   "cell_type": "code",
   "execution_count": 15,
   "metadata": {},
   "outputs": [
    {
     "name": "stdout",
     "output_type": "stream",
     "text": [
      "Num edges in each group - Num nodes in the group\n",
      "MM tensor(11372) - tensor(517)\n",
      "MF tensor(12070)\n",
      "FF tensor(4606) - tensor(275)\n",
      "Prob. of an edge in each group\n",
      "MM tensor(0.0851)\n",
      "MF tensor(0.1698)\n",
      "FF tensor(0.1218)\n"
     ]
    }
   ],
   "source": [
    "all_possible_males = ((y == 0).sum()**2)/2\n",
    "all_possible_females = ((y == 1).sum()**2)/2\n",
    "all_possible_male_female = ((y == 0).sum() * (y == 1).sum()) / 2\n",
    "\n",
    "all_possible_males = ((y == 0).sum()**2)/2\n",
    "all_possible_females = ((y == 1).sum()**2)/2\n",
    "all_possible_male_female = ((y == 0).sum() * (y == 1).sum()) / 2\n",
    "\n",
    "print(\"Num edges in each group - Num nodes in the group\")\n",
    "print(\"MM\", (y[facebook.edge_index].sum(0) == 0).sum(), '-', (y == 0).sum())\n",
    "print(\"MF\", (y[facebook.edge_index].sum(0) == 1).sum())\n",
    "print(\"FF\", (y[facebook.edge_index].sum(0) == 2).sum(), '-', (y == 1).sum())\n",
    "\n",
    "print(\"Prob. of an edge in each group\")\n",
    "print(\"MM\", (y[facebook.edge_index].sum(0) == 0).sum() / all_possible_males)\n",
    "print(\"MF\", (y[facebook.edge_index].sum(0) == 1).sum() / all_possible_male_female)\n",
    "print(\"FF\", (y[facebook.edge_index].sum(0) == 2).sum() / all_possible_females)"
   ]
  },
  {
   "cell_type": "code",
   "execution_count": 16,
   "metadata": {},
   "outputs": [
    {
     "data": {
      "text/plain": [
       "tensor(0.7554)"
      ]
     },
     "execution_count": 16,
     "metadata": {},
     "output_type": "execute_result"
    }
   ],
   "source": [
    "(y[facebook.edge_index].sum(0) == 1).sum() / ((y[facebook.edge_index].sum(0) == 2).sum() + (y[facebook.edge_index].sum(0) == 0).sum())"
   ]
  },
  {
   "cell_type": "markdown",
   "metadata": {},
   "source": [
    "### BUDDY"
   ]
  },
  {
   "cell_type": "code",
   "execution_count": 16,
   "metadata": {},
   "outputs": [
    {
     "name": "stdout",
     "output_type": "stream",
     "text": [
      "(BUDDY Sampling) Num pos-pairs in train set by group\n",
      "MM tensor(79820)\n",
      "FF tensor(1825)\n",
      "MF tensor(24592)\n",
      "(BUDDY Sampling) Num neg-pairs train by group\n",
      "MM tensor(81714)\n",
      "FF tensor(1574)\n",
      "MF tensor(22949)\n",
      "------------\n",
      "(BUDDY Sampling) Num pos-pairs in valid set by group\n",
      "MM tensor(11374)\n",
      "FF tensor(261)\n",
      "MF tensor(3541)\n",
      "(BUDDY Sampling) Num neg-pairs valid by group\n",
      "MM tensor(11671)\n",
      "FF tensor(223)\n",
      "MF tensor(3282)\n",
      "------------\n",
      "(BUDDY Sampling) Num pos-pairs in test set by group\n",
      "MM tensor(22843)\n",
      "FF tensor(522)\n",
      "MF tensor(6988)\n",
      "(BUDDY Sampling) Num neg-pairs test by group\n",
      "MM tensor(23297)\n",
      "FF tensor(466)\n",
      "MF tensor(6590)\n",
      "------------\n"
     ]
    }
   ],
   "source": [
    "dataset, splits, directed, eval_metric = torch.load(\"/home/jrm28/fairness/subgraph_sketching-original/dataset/splits/gplus.pt\")\n",
    "\n",
    "for set in ['train', 'valid', 'test']:\n",
    "    print(f\"(BUDDY Sampling) Num pos-pairs in {set} set by group\")\n",
    "    print(\"MM\", (dataset.y[splits[set].edge_label_index[:, splits[set].edge_label.bool()]].sum(0) == 0).sum())\n",
    "    print(\"FF\", (dataset.y[splits[set].edge_label_index[:, splits[set].edge_label.bool()]].sum(0) == 2).sum())\n",
    "    print(\"MF\", (dataset.y[splits[set].edge_label_index[:, splits[set].edge_label.bool()]].sum(0) == 1).sum())\n",
    "    print(f\"(BUDDY Sampling) Num neg-pairs {set} by group\")\n",
    "    print(\"MM\", (dataset.y[splits[set].edge_label_index[:, ~splits[set].edge_label.bool()]].sum(0) == 0).sum())\n",
    "    print(\"FF\", (dataset.y[splits[set].edge_label_index[:, ~splits[set].edge_label.bool()]].sum(0) == 2).sum())\n",
    "    print(\"MF\", (dataset.y[splits[set].edge_label_index[:, ~splits[set].edge_label.bool()]].sum(0) == 1).sum())\n",
    "    print(\"------------\")"
   ]
  },
  {
   "cell_type": "markdown",
   "metadata": {},
   "source": [
    "### NCNC Splits"
   ]
  },
  {
   "cell_type": "code",
   "execution_count": 14,
   "metadata": {},
   "outputs": [
    {
     "name": "stdout",
     "output_type": "stream",
     "text": [
      "(NCNC Sampling) Num pos-pairs in train set by group\n",
      "MM tensor(79842)\n",
      "FF tensor(1813)\n",
      "MF tensor(24582)\n",
      "(NCNC Sampling) Num neg-pairs in train set by group\n",
      "MM tensor(139847)\n",
      "FF tensor(2850)\n",
      "MF tensor(39423)\n",
      "------------\n",
      "(NCNC Sampling) Num pos-pairs in valid set by group\n",
      "MM tensor(11392)\n",
      "FF tensor(251)\n",
      "MF tensor(3533)\n",
      "(NCNC Sampling) Num neg-pairs in valid set by group\n",
      "MM tensor(23297)\n",
      "FF tensor(440)\n",
      "MF tensor(6616)\n",
      "------------\n",
      "(NCNC Sampling) Num pos-pairs in test set by group\n",
      "MM tensor(22803)\n",
      "FF tensor(544)\n",
      "MF tensor(7006)\n",
      "(NCNC Sampling) Num neg-pairs in test set by group\n",
      "MM tensor(23228)\n",
      "FF tensor(433)\n",
      "MF tensor(6692)\n",
      "------------\n"
     ]
    }
   ],
   "source": [
    "data, splits = torch.load(\"/home/jrm28/fairness/NeuralCommonNeighbor/dataset/splits/gplus.pt\")\n",
    "for set in ['train', 'valid', 'test']:\n",
    "    print(f\"(NCNC Sampling) Num pos-pairs in {set} set by group\")\n",
    "    print(\"MM\", (data.y[splits[set]['edge']].sum(1) == 0).sum())\n",
    "    print(\"FF\", (data.y[splits[set]['edge']].sum(1) == 2).sum())\n",
    "    print(\"MF\", (data.y[splits[set]['edge']].sum(1) == 1).sum())\n",
    "    print(f\"(NCNC Sampling) Num neg-pairs in {set} set by group\")\n",
    "    print(\"MM\", (data.y[splits[set]['edge_neg']].sum(1) == 0).sum())\n",
    "    print(\"FF\", (data.y[splits[set]['edge_neg']].sum(1) == 2).sum())\n",
    "    print(\"MF\", (data.y[splits[set]['edge_neg']].sum(1) == 1).sum())\n",
    "    print(\"------------\")"
   ]
  },
  {
   "cell_type": "markdown",
   "metadata": {},
   "source": [
    "#### Full-training"
   ]
  },
  {
   "cell_type": "code",
   "execution_count": 20,
   "metadata": {},
   "outputs": [
    {
     "name": "stdout",
     "output_type": "stream",
     "text": [
      "(Full Training Sampling) Num pos-pairs in train set by group\n",
      "MM tensor(193812)\n",
      "FF tensor(4462)\n",
      "MF tensor(59730)\n",
      "(Full Training Sampling) Num neg-pairs train by group\n",
      "MM tensor(1000515)\n",
      "FF tensor(19714)\n",
      "MF tensor(281355)\n",
      "------------\n",
      "(Full Training Sampling) Num pos-pairs in valid set by group\n",
      "MM tensor(5741)\n",
      "FF tensor(122)\n",
      "MF tensor(1725)\n",
      "(Full Training Sampling) Num neg-pairs valid by group\n",
      "MM tensor(994774)\n",
      "FF tensor(19592)\n",
      "MF tensor(279630)\n",
      "------------\n",
      "(Full Training Sampling) Num pos-pairs in test set by group\n",
      "MM tensor(11390)\n",
      "FF tensor(255)\n",
      "MF tensor(3531)\n",
      "(Full Training Sampling) Num neg-pairs test by group\n",
      "MM tensor(983384)\n",
      "FF tensor(19337)\n",
      "MF tensor(276099)\n",
      "------------\n"
     ]
    }
   ],
   "source": [
    "dataset, splits, directed, eval_metric = torch.load('full_training_gplus.pt')\n",
    "\n",
    "for set in ['train', 'valid', 'test']:\n",
    "    print(f\"(Full Training Sampling) Num pos-pairs in {set} set by group\")\n",
    "    print(\"MM\", (dataset.y[splits[set].edge_label_index[:, splits[set].edge_label.bool()]].sum(0) == 0).sum())\n",
    "    print(\"FF\", (dataset.y[splits[set].edge_label_index[:, splits[set].edge_label.bool()]].sum(0) == 2).sum())\n",
    "    print(\"MF\", (dataset.y[splits[set].edge_label_index[:, splits[set].edge_label.bool()]].sum(0) == 1).sum())\n",
    "    print(f\"(Full Training Sampling) Num neg-pairs {set} by group\")\n",
    "    print(\"MM\", (dataset.y[splits[set].edge_label_index[:, ~splits[set].edge_label.bool()]].sum(0) == 0).sum())\n",
    "    print(\"FF\", (dataset.y[splits[set].edge_label_index[:, ~splits[set].edge_label.bool()]].sum(0) == 2).sum())\n",
    "    print(\"MF\", (dataset.y[splits[set].edge_label_index[:, ~splits[set].edge_label.bool()]].sum(0) == 1).sum())\n",
    "    print(\"------------\")"
   ]
  },
  {
   "cell_type": "code",
   "execution_count": 14,
   "metadata": {},
   "outputs": [],
   "source": [
    "data, splits = torch.load(\"/home/jrm28/fairness/graphair/fairgraph/method/checkpoint/out/AUGMENTED_facebook_10000_epochs_2024-03-13_12-12-50/splits.pt\", map_location=torch.device('cpu'))"
   ]
  },
  {
   "cell_type": "code",
   "execution_count": 18,
   "metadata": {},
   "outputs": [
    {
     "data": {
      "text/plain": [
       "torch.Size([177522, 2])"
      ]
     },
     "execution_count": 18,
     "metadata": {},
     "output_type": "execute_result"
    }
   ],
   "source": [
    "data.edge_index.nonzero().shape"
   ]
  },
  {
   "cell_type": "code",
   "execution_count": null,
   "metadata": {},
   "outputs": [],
   "source": []
  }
 ],
 "metadata": {
  "kernelspec": {
   "display_name": "gelato_clone",
   "language": "python",
   "name": "python3"
  },
  "language_info": {
   "codemirror_mode": {
    "name": "ipython",
    "version": 3
   },
   "file_extension": ".py",
   "mimetype": "text/x-python",
   "name": "python",
   "nbconvert_exporter": "python",
   "pygments_lexer": "ipython3",
   "version": "3.11.8"
  }
 },
 "nbformat": 4,
 "nbformat_minor": 2
}
