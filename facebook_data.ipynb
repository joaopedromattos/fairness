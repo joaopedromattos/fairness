{
 "cells": [
  {
   "cell_type": "code",
   "execution_count": 11,
   "metadata": {},
   "outputs": [],
   "source": [
    "import numpy as np\n",
    "import pandas as pd\n",
    "import torch_geometric\n",
    "import networkx as nx\n",
    "from torch_geometric.data import Data, Dataset\n",
    "from torch_geometric.datasets.planetoid import Planetoid\n",
    "from torch_geometric.transforms.to_undirected import ToUndirected\n",
    "import torch"
   ]
  },
  {
   "cell_type": "code",
   "execution_count": 12,
   "metadata": {},
   "outputs": [],
   "source": [
    "G = nx.read_edgelist('/home/jrm28/fairness/subgraph_sketching-original/dataset/ego-facebook/raw/facebook/1684.edges', nodetype=int)"
   ]
  },
  {
   "cell_type": "code",
   "execution_count": 13,
   "metadata": {},
   "outputs": [],
   "source": [
    "edge_array = np.array([(u, v) for u, v in G.edges])\n",
    "edge_array.sort()"
   ]
  },
  {
   "cell_type": "code",
   "execution_count": 14,
   "metadata": {},
   "outputs": [
    {
     "data": {
      "text/plain": [
       "array([[2849, 3021],\n",
       "       [2849, 3335],\n",
       "       [2849, 3299],\n",
       "       ...,\n",
       "       [2691, 2792],\n",
       "       [3268, 3407],\n",
       "       [2788, 3271]])"
      ]
     },
     "execution_count": 14,
     "metadata": {},
     "output_type": "execute_result"
    }
   ],
   "source": [
    "edge_array\n"
   ]
  },
  {
   "cell_type": "code",
   "execution_count": 15,
   "metadata": {},
   "outputs": [
    {
     "data": {
      "text/plain": [
       "array([[204, 376],\n",
       "       [204, 690],\n",
       "       [204, 654],\n",
       "       ...,\n",
       "       [ 46, 147],\n",
       "       [623, 762],\n",
       "       [143, 626]])"
      ]
     },
     "execution_count": 15,
     "metadata": {},
     "output_type": "execute_result"
    }
   ],
   "source": [
    "features = np.loadtxt('/home/jrm28/fairness/subgraph_sketching-original/dataset/ego-facebook/raw/facebook/1684.feat')\n",
    "\n",
    "# sort features by node id\n",
    "sorted_idx = features[:, 0].argsort()\n",
    "features = features[sorted_idx, :]\n",
    "\n",
    "\n",
    "# Map node to index\n",
    "node_mapper = np.arange(features.shape[0])\n",
    "node_mapper = dict(zip(features[:, 0].astype(int), node_mapper))\n",
    "\n",
    "for edge in edge_array:\n",
    "    edge[0] = node_mapper[edge[0]]\n",
    "    edge[1] = node_mapper[edge[1]]\n",
    "    \n",
    "edge_array"
   ]
  },
  {
   "cell_type": "code",
   "execution_count": 16,
   "metadata": {},
   "outputs": [],
   "source": [
    "transform = ToUndirected()\n",
    "\n",
    "# feature 147 will be the sensitive attribute\n",
    "x = torch.tensor(features[:, 1:], dtype=torch.float32)\n",
    "y = x[:, 147]\n",
    "\n",
    "facebook = Data(x=x, y=y, edge_index=torch.tensor(edge_array.T))\n",
    "facebook = transform(facebook)"
   ]
  },
  {
   "cell_type": "code",
   "execution_count": 17,
   "metadata": {},
   "outputs": [
    {
     "data": {
      "text/plain": [
       "tensor([[0., 0., 0.,  ..., 0., 0., 0.],\n",
       "        [0., 0., 0.,  ..., 0., 0., 0.],\n",
       "        [0., 0., 0.,  ..., 0., 0., 0.],\n",
       "        ...,\n",
       "        [0., 0., 0.,  ..., 0., 0., 0.],\n",
       "        [0., 0., 0.,  ..., 0., 0., 0.],\n",
       "        [0., 0., 0.,  ..., 0., 0., 0.]])"
      ]
     },
     "execution_count": 17,
     "metadata": {},
     "output_type": "execute_result"
    }
   ],
   "source": [
    "x"
   ]
  },
  {
   "cell_type": "code",
   "execution_count": 18,
   "metadata": {},
   "outputs": [],
   "source": [
    "torch.save(facebook, '/home/jrm28/fairness/subgraph_sketching-original/dataset/ego-facebook/processed/facebook_1684.pt')"
   ]
  },
  {
   "cell_type": "code",
   "execution_count": null,
   "metadata": {},
   "outputs": [],
   "source": []
  }
 ],
 "metadata": {
  "kernelspec": {
   "display_name": "gelato_clone",
   "language": "python",
   "name": "python3"
  },
  "language_info": {
   "codemirror_mode": {
    "name": "ipython",
    "version": 3
   },
   "file_extension": ".py",
   "mimetype": "text/x-python",
   "name": "python",
   "nbconvert_exporter": "python",
   "pygments_lexer": "ipython3",
   "version": "3.11.3"
  }
 },
 "nbformat": 4,
 "nbformat_minor": 2
}
