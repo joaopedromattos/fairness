{
 "cells": [
  {
   "cell_type": "code",
   "execution_count": 6,
   "metadata": {},
   "outputs": [],
   "source": [
    "from torch_geometric.datasets import StochasticBlockModelDataset\n",
    "import torch\n",
    "from torch_geometric import seed_everything\n",
    "\n",
    "seed_everything(0)"
   ]
  },
  {
   "cell_type": "code",
   "execution_count": 7,
   "metadata": {},
   "outputs": [
    {
     "name": "stderr",
     "output_type": "stream",
     "text": [
      "Processing...\n",
      "Done!\n"
     ]
    }
   ],
   "source": [
    "female_nodes = 100\n",
    "male_nodes = 200\n",
    "\n",
    "dataset = StochasticBlockModelDataset(root='/tmp/SBM', block_sizes=torch.tensor([female_nodes, male_nodes]), edge_probs=torch.tensor([[0.9, 0.1], [0.1, 0.9]]), num_channels=64)"
   ]
  },
  {
   "cell_type": "markdown",
   "metadata": {},
   "source": [
    "import networkx as nx\n",
    "import torch_geometric\n",
    "\n",
    "# Convert the dataset to a networkx graph\n",
    "g = torch_geometric.utils.to_networkx(dataset[0])\n",
    "\n",
    "# Visualize the graph\n",
    "nx.draw(g, with_labels=True)"
   ]
  },
  {
   "cell_type": "code",
   "execution_count": 8,
   "metadata": {},
   "outputs": [],
   "source": [
    "labels = torch.zeros(size=(dataset[0].num_nodes,))\n",
    "labels[:female_nodes] = 1\n",
    "dataset[0].y = labels"
   ]
  },
  {
   "cell_type": "code",
   "execution_count": 9,
   "metadata": {},
   "outputs": [],
   "source": [
    "torch.save(dataset[0], '/home/jrm28/fairness/subgraph_sketching-original/dataset/sbm/processed/sbm_medium.pt')"
   ]
  },
  {
   "cell_type": "code",
   "execution_count": null,
   "metadata": {},
   "outputs": [],
   "source": []
  }
 ],
 "metadata": {
  "kernelspec": {
   "display_name": "gelato_clone",
   "language": "python",
   "name": "python3"
  },
  "language_info": {
   "codemirror_mode": {
    "name": "ipython",
    "version": 3
   },
   "file_extension": ".py",
   "mimetype": "text/x-python",
   "name": "python",
   "nbconvert_exporter": "python",
   "pygments_lexer": "ipython3",
   "version": "3.11.3"
  }
 },
 "nbformat": 4,
 "nbformat_minor": 2
}
