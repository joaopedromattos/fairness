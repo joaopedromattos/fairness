{
 "cells": [
  {
   "cell_type": "code",
   "execution_count": 4,
   "metadata": {},
   "outputs": [],
   "source": [
    "import numpy as np\n",
    "import pandas as pd\n",
    "import torch_geometric\n",
    "import networkx as nx\n",
    "from torch_geometric.data import Data, Dataset\n",
    "from torch_geometric.datasets.planetoid import Planetoid\n",
    "from torch_geometric.transforms.to_undirected import ToUndirected\n",
    "import torch"
   ]
  },
  {
   "cell_type": "code",
   "execution_count": 6,
   "metadata": {},
   "outputs": [
    {
     "name": "stdout",
     "output_type": "stream",
     "text": [
      "0.000000000000000000e+00 3.597000000000000000e+03\n",
      "0.000000000000000000e+00 5.975000000000000000e+03\n",
      "1.000000000000000000e+00 1.900000000000000000e+03\n",
      "1.000000000000000000e+00 2.561000000000000000e+03\n",
      "1.000000000000000000e+00 4.685000000000000000e+03\n",
      "1.000000000000000000e+00 5.510000000000000000e+03\n",
      "1.000000000000000000e+00 6.027000000000000000e+03\n",
      "1.000000000000000000e+00 6.375000000000000000e+03\n",
      "1.000000000000000000e+00 6.602000000000000000e+03\n",
      "1.000000000000000000e+00 8.050000000000000000e+03\n"
     ]
    }
   ],
   "source": [
    "!head /home/jrm28/fairness/NeuralCommonNeighbor/dataset/reliant_data/bail/bail_edges.txt"
   ]
  },
  {
   "cell_type": "code",
   "execution_count": 5,
   "metadata": {},
   "outputs": [],
   "source": [
    "G = np.load('/home/jrm28/fairness/NeuralCommonNeighbor/dataset/reliant_data/bail/split/test_split.npy')"
   ]
  },
  {
   "cell_type": "code",
   "execution_count": 3,
   "metadata": {},
   "outputs": [],
   "source": [
    "edge_array = np.array([(u, v) for u, v in G.edges])\n",
    "edge_array.sort()"
   ]
  },
  {
   "cell_type": "code",
   "execution_count": 4,
   "metadata": {},
   "outputs": [
    {
     "data": {
      "text/plain": [
       "array([[2849, 3021],\n",
       "       [2849, 3335],\n",
       "       [2849, 3299],\n",
       "       ...,\n",
       "       [2691, 2792],\n",
       "       [3268, 3407],\n",
       "       [2788, 3271]])"
      ]
     },
     "execution_count": 4,
     "metadata": {},
     "output_type": "execute_result"
    }
   ],
   "source": [
    "edge_array"
   ]
  },
  {
   "cell_type": "code",
   "execution_count": 5,
   "metadata": {},
   "outputs": [
    {
     "data": {
      "text/plain": [
       "array([[204, 376],\n",
       "       [204, 690],\n",
       "       [204, 654],\n",
       "       ...,\n",
       "       [ 46, 147],\n",
       "       [623, 762],\n",
       "       [143, 626]])"
      ]
     },
     "execution_count": 5,
     "metadata": {},
     "output_type": "execute_result"
    }
   ],
   "source": [
    "features = np.loadtxt('/home/jrm28/fairness/subgraph_sketching-original/dataset/ego-facebook/raw/facebook/1684.feat')\n",
    "\n",
    "# sort features by node id\n",
    "sorted_idx = features[:, 0].argsort()\n",
    "features = features[sorted_idx, :]\n",
    "\n",
    "\n",
    "# Map node to index\n",
    "node_mapper = np.arange(features.shape[0])\n",
    "node_mapper = dict(zip(features[:, 0].astype(int), node_mapper))\n",
    "\n",
    "for edge in edge_array:\n",
    "    edge[0] = node_mapper[edge[0]]\n",
    "    edge[1] = node_mapper[edge[1]]\n",
    "    \n",
    "edge_array"
   ]
  },
  {
   "cell_type": "code",
   "execution_count": 6,
   "metadata": {},
   "outputs": [],
   "source": [
    "transform = ToUndirected()\n",
    "\n",
    "# feature 147 will be the sensitive attribute\n",
    "x = torch.tensor(features[:, 1:], dtype=torch.float32)\n",
    "y = x[:, 147]\n",
    "\n",
    "# Removing columns 147 and 148 (sensitive attributes)\n",
    "x = torch.cat((x[:, :147], x[:, 149:]), dim=1)\n",
    "\n",
    "facebook = Data(x=x, y=y, edge_index=torch.tensor(edge_array.T))\n",
    "facebook = transform(facebook)"
   ]
  },
  {
   "cell_type": "code",
   "execution_count": 7,
   "metadata": {},
   "outputs": [],
   "source": [
    "torch.save(facebook, '/Users/joaopedromattos/Documents/fairness/subgraph_sketching-original/dataset/facebook/processed/facebook_1684.pt')"
   ]
  },
  {
   "cell_type": "markdown",
   "metadata": {},
   "source": [
    "## EDA"
   ]
  },
  {
   "cell_type": "code",
   "execution_count": 9,
   "metadata": {},
   "outputs": [
    {
     "data": {
      "text/plain": [
       "tensor([0., 0., 1.,  ..., 0., 1., 0.])"
      ]
     },
     "execution_count": 9,
     "metadata": {},
     "output_type": "execute_result"
    }
   ],
   "source": [
    "torch.vstack((y[facebook.edge_index[0]], y[facebook.edge_index[1]])).sum(axis=0)  "
   ]
  },
  {
   "cell_type": "code",
   "execution_count": 23,
   "metadata": {},
   "outputs": [
    {
     "data": {
      "text/plain": [
       "(tensor(15978), tensor(12070))"
      ]
     },
     "execution_count": 23,
     "metadata": {},
     "output_type": "execute_result"
    }
   ],
   "source": [
    "(torch.vstack((y[facebook.edge_index[0]], y[facebook.edge_index[1]])).sum(axis=0) == 0).sum() + (torch.vstack((y[facebook.edge_index[0]], y[facebook.edge_index[1]])).sum(axis=0) == 2).sum(), (torch.vstack((y[facebook.edge_index[0]], y[facebook.edge_index[1]])).sum(axis=0) == 1).sum(), "
   ]
  },
  {
   "cell_type": "markdown",
   "metadata": {},
   "source": []
  }
 ],
 "metadata": {
  "kernelspec": {
   "display_name": "gelato_clone",
   "language": "python",
   "name": "python3"
  },
  "language_info": {
   "codemirror_mode": {
    "name": "ipython",
    "version": 3
   },
   "file_extension": ".py",
   "mimetype": "text/x-python",
   "name": "python",
   "nbconvert_exporter": "python",
   "pygments_lexer": "ipython3",
   "version": "3.11.3"
  }
 },
 "nbformat": 4,
 "nbformat_minor": 2
}
